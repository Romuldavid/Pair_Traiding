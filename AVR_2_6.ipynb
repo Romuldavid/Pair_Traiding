{
 "cells": [
  {
   "cell_type": "markdown",
   "id": "f76851e2",
   "metadata": {},
   "source": [
    "Применим модель ARIMA для анализа курса валют\n",
    "\n",
    "![ARIMA](1_12.png)"
   ]
  },
  {
   "cell_type": "code",
   "execution_count": 1,
   "id": "b80dafb8",
   "metadata": {},
   "outputs": [],
   "source": [
    "import numpy as np\n",
    "import pandas as pd\n",
    "import matplotlib.pyplot as plt\n",
    "from statsmodels.graphics.tsaplots import plot_acf,plot_pacf,plot_predict\n",
    "from statsmodels.tsa.stattools import adfuller,pacf,acf\n",
    "from statsmodels.tsa.arima.model import ARIMA"
   ]
  },
  {
   "cell_type": "code",
   "execution_count": 2,
   "id": "bf61ae63",
   "metadata": {},
   "outputs": [],
   "source": [
    "def smape(A, F):\n",
    "    return 100*np.sum(2 * np.abs(F - A) / (np.abs(A) + np.abs(F)))"
   ]
  },
  {
   "cell_type": "code",
   "execution_count": 3,
   "id": "9e846ce8",
   "metadata": {},
   "outputs": [
    {
     "data": {
      "text/html": [
       "<div>\n",
       "<style scoped>\n",
       "    .dataframe tbody tr th:only-of-type {\n",
       "        vertical-align: middle;\n",
       "    }\n",
       "\n",
       "    .dataframe tbody tr th {\n",
       "        vertical-align: top;\n",
       "    }\n",
       "\n",
       "    .dataframe thead th {\n",
       "        text-align: right;\n",
       "    }\n",
       "</style>\n",
       "<table border=\"1\" class=\"dataframe\">\n",
       "  <thead>\n",
       "    <tr style=\"text-align: right;\">\n",
       "      <th></th>\n",
       "      <th>Дата</th>\n",
       "      <th>Курс</th>\n",
       "      <th>Ипотека</th>\n",
       "    </tr>\n",
       "  </thead>\n",
       "  <tbody>\n",
       "    <tr>\n",
       "      <th>0</th>\n",
       "      <td>11.01.2022</td>\n",
       "      <td>75.1315</td>\n",
       "      <td>9.84</td>\n",
       "    </tr>\n",
       "    <tr>\n",
       "      <th>1</th>\n",
       "      <td>12.01.2022</td>\n",
       "      <td>74.8355</td>\n",
       "      <td>9.84</td>\n",
       "    </tr>\n",
       "    <tr>\n",
       "      <th>2</th>\n",
       "      <td>13.01.2022</td>\n",
       "      <td>74.5277</td>\n",
       "      <td>9.84</td>\n",
       "    </tr>\n",
       "    <tr>\n",
       "      <th>3</th>\n",
       "      <td>14.01.2022</td>\n",
       "      <td>74.5686</td>\n",
       "      <td>9.84</td>\n",
       "    </tr>\n",
       "    <tr>\n",
       "      <th>4</th>\n",
       "      <td>15.01.2022</td>\n",
       "      <td>75.7668</td>\n",
       "      <td>9.84</td>\n",
       "    </tr>\n",
       "  </tbody>\n",
       "</table>\n",
       "</div>"
      ],
      "text/plain": [
       "         Дата     Курс  Ипотека\n",
       "0  11.01.2022  75.1315     9.84\n",
       "1  12.01.2022  74.8355     9.84\n",
       "2  13.01.2022  74.5277     9.84\n",
       "3  14.01.2022  74.5686     9.84\n",
       "4  15.01.2022  75.7668     9.84"
      ]
     },
     "execution_count": 3,
     "metadata": {},
     "output_type": "execute_result"
    }
   ],
   "source": [
    "data = pd.read_csv(\"ittensive.time.series.02.csv\",\n",
    "                   delimiter=\";\", header=0, names=[\"Дата\", \"Курс\", \"Ипотека\"])\n",
    "data = data[::-1].reset_index().drop(labels=\"index\", axis=1)\n",
    "data.head()"
   ]
  },
  {
   "cell_type": "markdown",
   "id": "ebdc3984",
   "metadata": {},
   "source": [
    "## Подбираем коэффициенты\n",
    "\n",
    "Модель ARIMA использует три целочисленных параметра: p, d и q.\n",
    "\n",
    "* p – порядок авторегрессии (AR). Его можно интерпретировать как выражение «элемент ряда будет близок к Х, если предыдущие р элементов были близки к Х».\n",
    "* d – порядок интегрирования (I) разностей исходного временного ряда. Можно понимать как «элемент будет близок по значению к предыдущим d элементам, если их разность минимальна».\n",
    "* q – порядок скользящего среднего (MA), который позволяет установить погрешность модели как линейную комбинацию наблюдавшихся ранее значений ошибок."
   ]
  },
  {
   "attachments": {
    "image.png": {
     "image/png": "[encoded data removed]"
    }
   },
   "cell_type": "markdown",
   "id": "e0bb5efa",
   "metadata": {},
   "source": [
    "Найдем порядок автокорреляции (разностей исходного ряда)\n",
    "![image.png](attachment:image.png)"
   ]
  },
  {
   "cell_type": "code",
   "execution_count": 4,
   "id": "12222d1d",
   "metadata": {},
   "outputs": [
    {
     "name": "stdout",
     "output_type": "stream",
     "text": [
      "Порядок авторегрессии (AR) равен 1\n"
     ]
    }
   ],
   "source": [
    "# ищем наибольший вклад компоненты в корреляцию по первым двум производным\n",
    "data_ = data[\"Курс\"]\n",
    "pacf_coeff = np.zeros(22)\n",
    "for p in range(1, 3):\n",
    "    data_ = data_.diff().dropna()\n",
    "    pacf_coeff += np.abs(pacf(data_))\n",
    "pacf_coeff = list(pacf_coeff)\n",
    "p_best = pacf_coeff.index(max(pacf_coeff))+1\n",
    "print (\"Порядок авторегрессии (AR) равен\", p_best)"
   ]
  },
  {
   "cell_type": "code",
   "execution_count": 5,
   "id": "3085497d",
   "metadata": {},
   "outputs": [
    {
     "name": "stdout",
     "output_type": "stream",
     "text": [
      "p-значение для 1-производной ряда 1.6475432053954194e-06\n",
      "p-значение для 2-производной ряда 1.0121605641452575e-15\n",
      "p-значение для 3-производной ряда 7.120990020397908e-11\n",
      "p-значение для 4-производной ряда 2.3156793235712853e-16\n",
      "d – порядок интегрирования (I) равен 1\n"
     ]
    }
   ],
   "source": [
    "# Проведем тест Дики-Фуллера на стационарность данных производных временного ряда для нахождения порядка интегрирования\n",
    "data_ = data[\"Курс\"]\n",
    "d_best = 0\n",
    "for d in range(1, 5):\n",
    "    data_ = data_.diff().dropna()\n",
    "    result = adfuller(data_)\n",
    "    print (\"p-значение для \" + str(d) + \"-производной ряда\", result[1])\n",
    "    if d_best == 0 and result[1] < 0.05:\n",
    "        d_best = d\n",
    "print (\"d – порядок интегрирования (I) равен\", d_best)"
   ]
  },
  {
   "cell_type": "code",
   "execution_count": 6,
   "id": "f9803ce5",
   "metadata": {},
   "outputs": [
    {
     "data": {
      "image/png": "[encoded data removed]",
      "text/plain": [
       "<Figure size 432x288 with 1 Axes>"
      ]
     },
     "metadata": {
      "needs_background": "light"
     },
     "output_type": "display_data"
    },
    {
     "name": "stdout",
     "output_type": "stream",
     "text": [
      "q – порядок скользящего среднего (MA) равен 2\n"
     ]
    }
   ],
   "source": [
    "# ищем порядок скользящего среднего (по вкладу компонентов первой производной)\n",
    "q_best = 0\n",
    "result = acf(data[\"Курс\"].diff().dropna())\n",
    "plt.plot(result)\n",
    "plt.plot([0.05]*len(result), color=\"red\")\n",
    "plt.plot([-0.05]*len(result), color=\"red\")\n",
    "plt.show()\n",
    "for i in range(len(result)):\n",
    "    if abs(result[i]) > 0.05:\n",
    "        q_best = i + 1\n",
    "    else:\n",
    "        break\n",
    "print (\"q – порядок скользящего среднего (MA) равен\", q_best)"
   ]
  },
  {
   "cell_type": "markdown",
   "id": "8d4d3127",
   "metadata": {},
   "source": [
    "## Строим модель"
   ]
  },
  {
   "cell_type": "code",
   "execution_count": 7,
   "id": "0e5b8f9e",
   "metadata": {},
   "outputs": [
    {
     "name": "stdout",
     "output_type": "stream",
     "text": [
      "                               SARIMAX Results                                \n",
      "==============================================================================\n",
      "Dep. Variable:                   Курс   No. Observations:                  159\n",
      "Model:                 ARIMA(1, 1, 2)   Log Likelihood                -364.993\n",
      "Date:                Wed, 09 Nov 2022   AIC                            737.987\n",
      "Time:                        23:28:26   BIC                            750.237\n",
      "Sample:                             0   HQIC                           742.962\n",
      "                                - 159                                         \n",
      "Covariance Type:                  opg                                         \n",
      "==============================================================================\n",
      "                 coef    std err          z      P>|z|      [0.025      0.975]\n",
      "------------------------------------------------------------------------------\n",
      "ar.L1          0.8350      0.147      5.688      0.000       0.547       1.123\n",
      "ma.L1         -0.6711      0.169     -3.973      0.000      -1.002      -0.340\n",
      "ma.L2         -0.0555      0.058     -0.950      0.342      -0.170       0.059\n",
      "sigma2         5.9406      0.397     14.945      0.000       5.162       6.720\n",
      "===================================================================================\n",
      "Ljung-Box (L1) (Q):                   0.01   Jarque-Bera (JB):               296.55\n",
      "Prob(Q):                              0.91   Prob(JB):                         0.00\n",
      "Heteroskedasticity (H):               0.11   Skew:                             1.04\n",
      "Prob(H) (two-sided):                  0.00   Kurtosis:                         9.38\n",
      "===================================================================================\n",
      "\n",
      "Warnings:\n",
      "[1] Covariance matrix calculated using the outer product of gradients (complex-step).\n"
     ]
    }
   ],
   "source": [
    "model = ARIMA(data[\"Курс\"], order=(p_best, d_best, q_best)).fit()\n",
    "print (model.summary())"
   ]
  },
  {
   "cell_type": "markdown",
   "id": "be0522fa",
   "metadata": {},
   "source": [
    "Переберем все коэффициенты \"по сетке\", выберем лучший вариант AIC"
   ]
  },
  {
   "cell_type": "code",
   "execution_count": 8,
   "id": "2359eece",
   "metadata": {},
   "outputs": [
    {
     "name": "stderr",
     "output_type": "stream",
     "text": [
      "C:\\Users\\Lenovo PC\\AppData\\Local\\Programs\\Python\\Python39\\lib\\site-packages\\statsmodels\\tsa\\statespace\\sarimax.py:966: UserWarning: Non-stationary starting autoregressive parameters found. Using zeros as starting parameters.\n",
      "  warn('Non-stationary starting autoregressive parameters'\n",
      "C:\\Users\\Lenovo PC\\AppData\\Local\\Programs\\Python\\Python39\\lib\\site-packages\\statsmodels\\tsa\\statespace\\sarimax.py:978: UserWarning: Non-invertible starting MA parameters found. Using zeros as starting parameters.\n",
      "  warn('Non-invertible starting MA parameters found.'\n",
      "C:\\Users\\Lenovo PC\\AppData\\Local\\Programs\\Python\\Python39\\lib\\site-packages\\statsmodels\\base\\model.py:604: ConvergenceWarning: Maximum Likelihood optimization failed to converge. Check mle_retvals\n",
      "  warnings.warn(\"Maximum Likelihood optimization failed to \"\n",
      "C:\\Users\\Lenovo PC\\AppData\\Local\\Programs\\Python\\Python39\\lib\\site-packages\\statsmodels\\base\\model.py:604: ConvergenceWarning: Maximum Likelihood optimization failed to converge. Check mle_retvals\n",
      "  warnings.warn(\"Maximum Likelihood optimization failed to \"\n",
      "C:\\Users\\Lenovo PC\\AppData\\Local\\Programs\\Python\\Python39\\lib\\site-packages\\statsmodels\\base\\model.py:604: ConvergenceWarning: Maximum Likelihood optimization failed to converge. Check mle_retvals\n",
      "  warnings.warn(\"Maximum Likelihood optimization failed to \"\n",
      "C:\\Users\\Lenovo PC\\AppData\\Local\\Programs\\Python\\Python39\\lib\\site-packages\\statsmodels\\base\\model.py:604: ConvergenceWarning: Maximum Likelihood optimization failed to converge. Check mle_retvals\n",
      "  warnings.warn(\"Maximum Likelihood optimization failed to \"\n",
      "C:\\Users\\Lenovo PC\\AppData\\Local\\Programs\\Python\\Python39\\lib\\site-packages\\statsmodels\\base\\model.py:604: ConvergenceWarning: Maximum Likelihood optimization failed to converge. Check mle_retvals\n",
      "  warnings.warn(\"Maximum Likelihood optimization failed to \"\n",
      "C:\\Users\\Lenovo PC\\AppData\\Local\\Programs\\Python\\Python39\\lib\\site-packages\\statsmodels\\base\\model.py:604: ConvergenceWarning: Maximum Likelihood optimization failed to converge. Check mle_retvals\n",
      "  warnings.warn(\"Maximum Likelihood optimization failed to \"\n",
      "C:\\Users\\Lenovo PC\\AppData\\Local\\Programs\\Python\\Python39\\lib\\site-packages\\statsmodels\\base\\model.py:604: ConvergenceWarning: Maximum Likelihood optimization failed to converge. Check mle_retvals\n",
      "  warnings.warn(\"Maximum Likelihood optimization failed to \"\n",
      "C:\\Users\\Lenovo PC\\AppData\\Local\\Programs\\Python\\Python39\\lib\\site-packages\\statsmodels\\base\\model.py:604: ConvergenceWarning: Maximum Likelihood optimization failed to converge. Check mle_retvals\n",
      "  warnings.warn(\"Maximum Likelihood optimization failed to \"\n",
      "C:\\Users\\Lenovo PC\\AppData\\Local\\Programs\\Python\\Python39\\lib\\site-packages\\statsmodels\\base\\model.py:604: ConvergenceWarning: Maximum Likelihood optimization failed to converge. Check mle_retvals\n",
      "  warnings.warn(\"Maximum Likelihood optimization failed to \"\n",
      "C:\\Users\\Lenovo PC\\AppData\\Local\\Programs\\Python\\Python39\\lib\\site-packages\\statsmodels\\base\\model.py:604: ConvergenceWarning: Maximum Likelihood optimization failed to converge. Check mle_retvals\n",
      "  warnings.warn(\"Maximum Likelihood optimization failed to \"\n",
      "C:\\Users\\Lenovo PC\\AppData\\Local\\Programs\\Python\\Python39\\lib\\site-packages\\statsmodels\\base\\model.py:604: ConvergenceWarning: Maximum Likelihood optimization failed to converge. Check mle_retvals\n",
      "  warnings.warn(\"Maximum Likelihood optimization failed to \"\n",
      "C:\\Users\\Lenovo PC\\AppData\\Local\\Programs\\Python\\Python39\\lib\\site-packages\\statsmodels\\base\\model.py:604: ConvergenceWarning: Maximum Likelihood optimization failed to converge. Check mle_retvals\n",
      "  warnings.warn(\"Maximum Likelihood optimization failed to \"\n",
      "C:\\Users\\Lenovo PC\\AppData\\Local\\Programs\\Python\\Python39\\lib\\site-packages\\statsmodels\\base\\model.py:604: ConvergenceWarning: Maximum Likelihood optimization failed to converge. Check mle_retvals\n",
      "  warnings.warn(\"Maximum Likelihood optimization failed to \"\n",
      "C:\\Users\\Lenovo PC\\AppData\\Local\\Programs\\Python\\Python39\\lib\\site-packages\\statsmodels\\base\\model.py:604: ConvergenceWarning: Maximum Likelihood optimization failed to converge. Check mle_retvals\n",
      "  warnings.warn(\"Maximum Likelihood optimization failed to \"\n",
      "C:\\Users\\Lenovo PC\\AppData\\Local\\Programs\\Python\\Python39\\lib\\site-packages\\statsmodels\\base\\model.py:604: ConvergenceWarning: Maximum Likelihood optimization failed to converge. Check mle_retvals\n",
      "  warnings.warn(\"Maximum Likelihood optimization failed to \"\n",
      "C:\\Users\\Lenovo PC\\AppData\\Local\\Programs\\Python\\Python39\\lib\\site-packages\\statsmodels\\base\\model.py:604: ConvergenceWarning: Maximum Likelihood optimization failed to converge. Check mle_retvals\n",
      "  warnings.warn(\"Maximum Likelihood optimization failed to \"\n",
      "C:\\Users\\Lenovo PC\\AppData\\Local\\Programs\\Python\\Python39\\lib\\site-packages\\statsmodels\\base\\model.py:604: ConvergenceWarning: Maximum Likelihood optimization failed to converge. Check mle_retvals\n",
      "  warnings.warn(\"Maximum Likelihood optimization failed to \"\n",
      "C:\\Users\\Lenovo PC\\AppData\\Local\\Programs\\Python\\Python39\\lib\\site-packages\\statsmodels\\base\\model.py:604: ConvergenceWarning: Maximum Likelihood optimization failed to converge. Check mle_retvals\n",
      "  warnings.warn(\"Maximum Likelihood optimization failed to \"\n",
      "C:\\Users\\Lenovo PC\\AppData\\Local\\Programs\\Python\\Python39\\lib\\site-packages\\statsmodels\\base\\model.py:604: ConvergenceWarning: Maximum Likelihood optimization failed to converge. Check mle_retvals\n",
      "  warnings.warn(\"Maximum Likelihood optimization failed to \"\n",
      "C:\\Users\\Lenovo PC\\AppData\\Local\\Programs\\Python\\Python39\\lib\\site-packages\\statsmodels\\base\\model.py:604: ConvergenceWarning: Maximum Likelihood optimization failed to converge. Check mle_retvals\n",
      "  warnings.warn(\"Maximum Likelihood optimization failed to \"\n",
      "C:\\Users\\Lenovo PC\\AppData\\Local\\Programs\\Python\\Python39\\lib\\site-packages\\statsmodels\\base\\model.py:604: ConvergenceWarning: Maximum Likelihood optimization failed to converge. Check mle_retvals\n",
      "  warnings.warn(\"Maximum Likelihood optimization failed to \"\n",
      "C:\\Users\\Lenovo PC\\AppData\\Local\\Programs\\Python\\Python39\\lib\\site-packages\\statsmodels\\base\\model.py:604: ConvergenceWarning: Maximum Likelihood optimization failed to converge. Check mle_retvals\n",
      "  warnings.warn(\"Maximum Likelihood optimization failed to \"\n",
      "C:\\Users\\Lenovo PC\\AppData\\Local\\Programs\\Python\\Python39\\lib\\site-packages\\statsmodels\\base\\model.py:604: ConvergenceWarning: Maximum Likelihood optimization failed to converge. Check mle_retvals\n",
      "  warnings.warn(\"Maximum Likelihood optimization failed to \"\n"
     ]
    },
    {
     "name": "stdout",
     "output_type": "stream",
     "text": [
      "Наилучшие коффициенты: (2, 1, 3)\n"
     ]
    },
    {
     "name": "stderr",
     "output_type": "stream",
     "text": [
      "C:\\Users\\Lenovo PC\\AppData\\Local\\Programs\\Python\\Python39\\lib\\site-packages\\statsmodels\\base\\model.py:604: ConvergenceWarning: Maximum Likelihood optimization failed to converge. Check mle_retvals\n",
      "  warnings.warn(\"Maximum Likelihood optimization failed to \"\n"
     ]
    }
   ],
   "source": [
    "aic_best = model.aic\n",
    "coeff_best = (p_best, d_best, q_best)\n",
    "for p in range(1,5):\n",
    "    for d in range(1,5):\n",
    "        for q in range(1,5):\n",
    "            model_ = ARIMA(data[\"Курс\"], order=(p, d, q)).fit()\n",
    "            aic = model_.aic\n",
    "            if aic < aic_best:\n",
    "                coeff_best = (p, d, q)\n",
    "                aic_best = aic\n",
    "print (\"Наилучшие коффициенты:\", coeff_best)"
   ]
  },
  {
   "cell_type": "markdown",
   "id": "d6b69a1a",
   "metadata": {},
   "source": [
    "## Визуализация результата"
   ]
  },
  {
   "cell_type": "code",
   "execution_count": 9,
   "id": "f2433eae",
   "metadata": {},
   "outputs": [
    {
     "name": "stderr",
     "output_type": "stream",
     "text": [
      "C:\\Users\\Lenovo PC\\AppData\\Local\\Programs\\Python\\Python39\\lib\\site-packages\\statsmodels\\base\\model.py:604: ConvergenceWarning: Maximum Likelihood optimization failed to converge. Check mle_retvals\n",
      "  warnings.warn(\"Maximum Likelihood optimization failed to \"\n"
     ]
    }
   ],
   "source": [
    "model = ARIMA(data[\"Курс\"][:-10], order=coeff_best).fit()\n",
    "forecast = model.get_forecast(steps=10).predicted_mean"
   ]
  },
  {
   "cell_type": "code",
   "execution_count": 10,
   "id": "522ef555",
   "metadata": {},
   "outputs": [
    {
     "data": {
      "image/png": "[encoded data removed]",
      "text/plain": [
       "<Figure size 432x288 with 1 Axes>"
      ]
     },
     "metadata": {
      "needs_background": "light"
     },
     "output_type": "display_data"
    }
   ],
   "source": [
    "plt.plot(data[\"Курс\"])\n",
    "plt.plot(forecast)\n",
    "plt.show()"
   ]
  },
  {
   "cell_type": "markdown",
   "id": "3202755f",
   "metadata": {},
   "source": [
    "Оценим ошибку"
   ]
  },
  {
   "cell_type": "code",
   "execution_count": 11,
   "id": "3e6aaf1a",
   "metadata": {},
   "outputs": [
    {
     "name": "stdout",
     "output_type": "stream",
     "text": [
      "Ошибка модели: 17.241698497671315\n"
     ]
    }
   ],
   "source": [
    "print (\"Ошибка модели:\", smape(data[\"Курс\"][-10:], forecast))"
   ]
  }
 ],
 "metadata": {
  "kernelspec": {
   "display_name": "Python 3 (ipykernel)",
   "language": "python",
   "name": "python3"
  },
  "language_info": {
   "codemirror_mode": {
    "name": "ipython",
    "version": 3
   },
   "file_extension": ".py",
   "mimetype": "text/x-python",
   "name": "python",
   "nbconvert_exporter": "python",
   "pygments_lexer": "ipython3",
   "version": "3.9.9"
  }
 },
 "nbformat": 4,
 "nbformat_minor": 5
}
