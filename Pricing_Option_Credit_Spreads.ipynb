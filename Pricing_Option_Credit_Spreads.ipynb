{
 "cells": [
  {
   "attachments": {},
   "cell_type": "markdown",
   "metadata": {},
   "source": [
    "Ценообразование кредитных спредов с помощью\n",
    "Python"
   ]
  },
  {
   "attachments": {},
   "cell_type": "markdown",
   "metadata": {},
   "source": [
    "План\n",
    "состоит в том, чтобы продать опционы на покупку денег, а затем купить их по более\n",
    "высокой ставке, за вычетом разницы в виде прибыли. Чтобы застраховать эту позицию, я\n",
    "куплю базовую акцию.\n",
    "Теперь я хочу показать, как я искал возможности в рыночных данных. Существует\n",
    "множество конкурирующих факторов, поэтому мне придется сопоставить их друг с другом.\n",
    "Я хочу:\n",
    "Максимальный авансовый взнос\n",
    "Коэффициенты покупки / продажи, близкие к нулю Δ и Γ с большим положительным Θ\n",
    "Минимальные требования к наличности при покупке акций и марже опционов\n",
    "Волатильность акций на средне-низком уровне\n",
    "Достаточная ликвидность акций и опционов\n",
    "Чтобы упростить поиск и минимизировать риск, я собираюсь сосредоточиться на спредах\n",
    "опционов между двумя немедленными ударами. Это также снизит наши маржинальные\n",
    "издержки, хотя разница в премиях также будет меньше. Чтобы ограничить временной\n",
    "горизонт, я собираюсь сосредоточиться на покупке спреда за неделю до истечения срока\n",
    "действия опционов, надеясь, что срок их действия обесценится. Затем планируется поиск\n",
    "следующего набора опционов для включения в эту сделку на следующей неделе."
   ]
  },
  {
   "cell_type": "code",
   "execution_count": 10,
   "metadata": {},
   "outputs": [],
   "source": [
    "# Standard library imports\n",
    "import datetime\n",
    "import re\n",
    "\n",
    "# Требования к сторонним библиотекам\n",
    "import pandas as pd\n",
    "import QuantLib as ql\n",
    "from yahoo_fin.options import get_calls\n",
    "from yahoo_fin.stock_info import get_quote_table"
   ]
  },
  {
   "cell_type": "code",
   "execution_count": 14,
   "metadata": {},
   "outputs": [],
   "source": [
    "# Жестко запрограммированный тикер и срок действия для целей примера\n",
    "ticker = \"AAPL\"\n",
    "expiration = datetime.date(2023, 2, 24)"
   ]
  },
  {
   "cell_type": "code",
   "execution_count": 12,
   "metadata": {},
   "outputs": [],
   "source": [
    "# Получить текущую цену акций и ставку дивидендов\n",
    "info = get_quote_table(ticker)\n",
    "current_price = info[\"Quote Price\"]\n",
    "yield_re = re.compile(r\"\\((?P<value>(\\d+\\.\\d+))%\\)\")\n",
    "try:\n",
    "    dividend_yield = float(\n",
    "    yield_re.search(info[\"Forward Dividend & Yield\"])[\"value\"]\n",
    "    )\n",
    "except (KeyError, ValueError, TypeError):\n",
    "    dividend_yield = 0.0"
   ]
  },
  {
   "cell_type": "code",
   "execution_count": 15,
   "metadata": {},
   "outputs": [],
   "source": [
    "# Выборка цепочек цен на опционы call\n",
    "calls = get_calls(ticker, expiration.strftime(\"%B %d, %Y\"))"
   ]
  },
  {
   "cell_type": "code",
   "execution_count": 17,
   "metadata": {},
   "outputs": [],
   "source": [
    "# Настройка инструментов для ценообразования по Блэку-Шоулзу\n",
    "today = ql.Date.todaysDate()\n",
    "underlying = ql.SimpleQuote(current_price)\n",
    "exercise = ql.AmericanExercise(\n",
    "today,\n",
    "ql.Date(expiration.day, expiration.month, expiration.year)\n",
    ")\n",
    "dividendYield = ql.FlatForward(\n",
    "today, dividend_yield, ql.Actual360()\n",
    ")\n",
    "\n",
    "riskFreeRate = ql.FlatForward(today, 0.0008913, ql.Actual360())\n",
    "\n",
    "def create_option(row):\n",
    "    volatility = ql.BlackConstantVol(\n",
    "    today,\n",
    "    ql.UnitedStates(),\n",
    "    row[\"volatility\"],\n",
    "    ql.Business252()\n",
    "    )\n",
    "    option = ql.VanillaOption(\n",
    "    ql.PlainVanillaPayoff(ql.Option.Call, row[\"Strike\"]),\n",
    "    exercise\n",
    "    )\n",
    "    process = ql.BlackScholesMertonProcess(\n",
    "    ql.QuoteHandle(underlying),\n",
    "    ql.YieldTermStructureHandle(dividendYield),\n",
    "    ql.YieldTermStructureHandle(riskFreeRate),\n",
    "    ql.BlackVolTermStructureHandle(volatility),\n",
    "    )\n",
    "    # Не используйте подразумеваемый объем в кавычках\n",
    "    # Вычислите его изпоследняя цена\n",
    "    imp_vol = option.impliedVolatility(row[\"Last Price\"], process)\n",
    "    implied_volatility = ql.BlackConstantVol(\n",
    "    today,\n",
    "    ql.UnitedStates(),\n",
    "    imp_vol,\n",
    "    ql.Business252()\n",
    "    )\n",
    "\n",
    "    process = ql.BlackScholesMertonProcess(\n",
    "    ql.QuoteHandle(underlying),\n",
    "    ql.YieldTermStructureHandle(dividendYield),\n",
    "    ql.YieldTermStructureHandle(riskFreeRate),\n",
    "    ql.BlackVolTermStructureHandle(implied_volatility),\n",
    "    )\n",
    "    option.setPricingEngine(\n",
    "    ql.FdBlackScholesVanillaEngine(process, 1000, 1000)\n",
    "    )\n",
    "    return {\n",
    "        \"Name\": row[\"Contract Name\"],\n",
    "        \"Strike\": row[\"Strike\"],\n",
    "        \"Last\": row[\"Last Price\"],\n",
    "        \"Bid\": row[\"Bid\"],\n",
    "        \"Ask\": row[\"Ask\"],\n",
    "        \"NPV\": option.NPV(),\n",
    "        \"Delta\": option.delta(),\n",
    "        \"Gamma\": option.gamma(),\n",
    "        \"Theta\": option.theta() / 365,\n",
    "        \"Volatility\": imp_vol * 100,\n",
    "        }\n",
    "\n",
    "    # Filter down to only OTM strikes\n",
    "    calls = calls[calls[\"Strike\"] >= current_price * 1.025]\n",
    "    calls = calls[calls[\"Strike\"] <= current_price * 1.10]\n",
    "    # Parse out implied volatility\n",
    "    calls = calls.assign(\n",
    "    volatility=lambda x: x[\"Implied Volatility\"].str.rstrip(\"%\").astype(\"float\") /\n",
    "    100,\n",
    "    )\n",
    "    # Price options and calculate greeks\n",
    "    options = calls.apply(create_option, axis=1, result_type=\"expand\")"
   ]
  },
  {
   "attachments": {},
   "cell_type": "markdown",
   "metadata": {},
   "source": [
    "Минимизация риска и максимизация прибыли"
   ]
  },
  {
   "attachments": {},
   "cell_type": "markdown",
   "metadata": {},
   "source": [
    "Имея рыночные данные, а теперь и греческие значения для каждого опциона, я начинаю\n",
    "оценивать каждую пару опционов, пытаясь найти ту, которая имеет наилучшее значение.\n",
    "Опять же, я ограничиваю это только страйками, которые находятся рядом друг с другом в\n",
    "цепочке, но это может быть расширено для поиска более широких спредов."
   ]
  }
 ],
 "metadata": {
  "kernelspec": {
   "display_name": "venv",
   "language": "python",
   "name": "python3"
  },
  "language_info": {
   "codemirror_mode": {
    "name": "ipython",
    "version": 3
   },
   "file_extension": ".py",
   "mimetype": "text/x-python",
   "name": "python",
   "nbconvert_exporter": "python",
   "pygments_lexer": "ipython3",
   "version": "3.8.10"
  },
  "orig_nbformat": 4,
  "vscode": {
   "interpreter": {
    "hash": "dcbd98763b67ad1609eb19755cab1b3a68da10e69d90355d59e7c81ab1ecae78"
   }
  }
 },
 "nbformat": 4,
 "nbformat_minor": 2
}
