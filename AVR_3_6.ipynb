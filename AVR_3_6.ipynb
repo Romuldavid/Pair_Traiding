{
 "cells": [
  {
   "cell_type": "markdown",
   "id": "f76851e2",
   "metadata": {},
   "source": [
    "Применим сезонность для ARIMA\n",
    "\n",
    "![SARIMA](1_13.png)"
   ]
  },
  {
   "cell_type": "code",
   "execution_count": 1,
   "id": "b80dafb8",
   "metadata": {},
   "outputs": [],
   "source": [
    "import numpy as np\n",
    "import pandas as pd\n",
    "import matplotlib.pyplot as plt\n",
    "from statsmodels.tsa.statespace.sarimax import SARIMAX"
   ]
  },
  {
   "cell_type": "code",
   "execution_count": 2,
   "id": "2b355e82",
   "metadata": {},
   "outputs": [],
   "source": [
    "def smape(A, F):\n",
    "    return 100*np.sum(2 * np.abs(F - A) / (np.abs(A) + np.abs(F)))"
   ]
  },
  {
   "cell_type": "code",
   "execution_count": 3,
   "id": "9e846ce8",
   "metadata": {},
   "outputs": [
    {
     "data": {
      "text/html": [
       "<div>\n",
       "<style scoped>\n",
       "    .dataframe tbody tr th:only-of-type {\n",
       "        vertical-align: middle;\n",
       "    }\n",
       "\n",
       "    .dataframe tbody tr th {\n",
       "        vertical-align: top;\n",
       "    }\n",
       "\n",
       "    .dataframe thead th {\n",
       "        text-align: right;\n",
       "    }\n",
       "</style>\n",
       "<table border=\"1\" class=\"dataframe\">\n",
       "  <thead>\n",
       "    <tr style=\"text-align: right;\">\n",
       "      <th></th>\n",
       "      <th>Дата</th>\n",
       "      <th>Курс</th>\n",
       "    </tr>\n",
       "  </thead>\n",
       "  <tbody>\n",
       "    <tr>\n",
       "      <th>0</th>\n",
       "      <td>11.01.2022</td>\n",
       "      <td>75.1315</td>\n",
       "    </tr>\n",
       "    <tr>\n",
       "      <th>1</th>\n",
       "      <td>12.01.2022</td>\n",
       "      <td>74.8355</td>\n",
       "    </tr>\n",
       "    <tr>\n",
       "      <th>2</th>\n",
       "      <td>13.01.2022</td>\n",
       "      <td>74.5277</td>\n",
       "    </tr>\n",
       "    <tr>\n",
       "      <th>3</th>\n",
       "      <td>14.01.2022</td>\n",
       "      <td>74.5686</td>\n",
       "    </tr>\n",
       "    <tr>\n",
       "      <th>4</th>\n",
       "      <td>15.01.2022</td>\n",
       "      <td>75.7668</td>\n",
       "    </tr>\n",
       "  </tbody>\n",
       "</table>\n",
       "</div>"
      ],
      "text/plain": [
       "         Дата     Курс\n",
       "0  11.01.2022  75.1315\n",
       "1  12.01.2022  74.8355\n",
       "2  13.01.2022  74.5277\n",
       "3  14.01.2022  74.5686\n",
       "4  15.01.2022  75.7668"
      ]
     },
     "execution_count": 3,
     "metadata": {},
     "output_type": "execute_result"
    }
   ],
   "source": [
    "data = pd.read_csv(\"https://video.ittensive.com/time-series/ittensive.time.series.02.csv\",\n",
    "                   delimiter=\";\", header=0, names=[\"Дата\", \"Курс\", \"Ипотека\"])\n",
    "data = data[::-1].reset_index().drop(labels=\"index\", axis=1)\n",
    "data.head()"
   ]
  },
  {
   "cell_type": "markdown",
   "id": "ebdc3984",
   "metadata": {},
   "source": [
    "## Подбираем коэффициенты\n",
    "\n",
    "Модель SARIMA использует шесть целочисленных параметра: p, d, q, P, D, Q.\n",
    "\n",
    "* p – порядок авторегрессии (AR). Его можно интерпретировать как выражение «элемент ряда будет близок к Х, если предыдущие р элементов были близки к Х».\n",
    "* d – порядок интегрирования (I) разностей исходного временного ряда. Можно понимать как «элемент будет близок по значению к предыдущим d элементам, если их разность минимальна».\n",
    "* q – порядок скользящего среднего (MA), который позволяет установить погрешность модели как линейную комбинацию наблюдавшихся ранее значений ошибок.\n",
    "* P - порядок сезонной авторегрессии\n",
    "* D - порядок сезонного интегрирования\n",
    "* Q - порядок сезонного скользящего среднего\n",
    "* T (период сезона) - 7"
   ]
  },
  {
   "cell_type": "markdown",
   "id": "8d4d3127",
   "metadata": {},
   "source": [
    "## Строим модель"
   ]
  },
  {
   "cell_type": "code",
   "execution_count": 4,
   "id": "0e5b8f9e",
   "metadata": {},
   "outputs": [
    {
     "name": "stdout",
     "output_type": "stream",
     "text": [
      "                                      SARIMAX Results                                      \n",
      "===========================================================================================\n",
      "Dep. Variable:                                Курс   No. Observations:                  159\n",
      "Model:             SARIMAX(2, 1, 3)x(1, 1, [1], 7)   Log Likelihood                -354.564\n",
      "Date:                             Sun, 25 Sep 2022   AIC                            725.129\n",
      "Time:                                     00:39:48   BIC                            749.267\n",
      "Sample:                                          0   HQIC                           734.935\n",
      "                                             - 159                                         \n",
      "Covariance Type:                               opg                                         \n",
      "==============================================================================\n",
      "                 coef    std err          z      P>|z|      [0.025      0.975]\n",
      "------------------------------------------------------------------------------\n",
      "ar.L1          1.4578      0.097     15.069      0.000       1.268       1.647\n",
      "ar.L2         -0.7441      0.098     -7.595      0.000      -0.936      -0.552\n",
      "ma.L1         -1.3158      0.110    -11.979      0.000      -1.531      -1.101\n",
      "ma.L2          0.4615      0.120      3.839      0.000       0.226       0.697\n",
      "ma.L3          0.2896      0.054      5.408      0.000       0.185       0.394\n",
      "ar.S.L7        0.0316      0.094      0.337      0.736      -0.152       0.215\n",
      "ma.S.L7       -0.9998     95.166     -0.011      0.992    -187.523     185.523\n",
      "sigma2         5.7951    551.280      0.011      0.992   -1074.694    1086.284\n",
      "===================================================================================\n",
      "Ljung-Box (L1) (Q):                   0.07   Jarque-Bera (JB):               211.42\n",
      "Prob(Q):                              0.79   Prob(JB):                         0.00\n",
      "Heteroskedasticity (H):               0.10   Skew:                             0.90\n",
      "Prob(H) (two-sided):                  0.00   Kurtosis:                         8.51\n",
      "===================================================================================\n",
      "\n",
      "Warnings:\n",
      "[1] Covariance matrix calculated using the outer product of gradients (complex-step).\n"
     ]
    },
    {
     "name": "stderr",
     "output_type": "stream",
     "text": [
      "C:\\Users\\Lenovo PC\\AppData\\Local\\Programs\\Python\\Python39\\lib\\site-packages\\statsmodels\\base\\model.py:604: ConvergenceWarning: Maximum Likelihood optimization failed to converge. Check mle_retvals\n",
      "  warnings.warn(\"Maximum Likelihood optimization failed to \"\n"
     ]
    }
   ],
   "source": [
    "model = SARIMAX(data[\"Курс\"], order=(2, 1, 3), seasonal_order=(1,1,1,7)).fit()\n",
    "print (model.summary())"
   ]
  },
  {
   "cell_type": "markdown",
   "id": "be0522fa",
   "metadata": {},
   "source": [
    "Переберем все коэффициенты \"по сетке\", выберем лучший вариант AIC"
   ]
  },
  {
   "cell_type": "code",
   "execution_count": 5,
   "id": "2359eece",
   "metadata": {},
   "outputs": [
    {
     "name": "stderr",
     "output_type": "stream",
     "text": [
      "C:\\Users\\Lenovo PC\\AppData\\Local\\Programs\\Python\\Python39\\lib\\site-packages\\statsmodels\\base\\model.py:604: ConvergenceWarning: Maximum Likelihood optimization failed to converge. Check mle_retvals\n",
      "  warnings.warn(\"Maximum Likelihood optimization failed to \"\n",
      "C:\\Users\\Lenovo PC\\AppData\\Local\\Programs\\Python\\Python39\\lib\\site-packages\\statsmodels\\base\\model.py:604: ConvergenceWarning: Maximum Likelihood optimization failed to converge. Check mle_retvals\n",
      "  warnings.warn(\"Maximum Likelihood optimization failed to \"\n",
      "C:\\Users\\Lenovo PC\\AppData\\Local\\Programs\\Python\\Python39\\lib\\site-packages\\statsmodels\\tsa\\statespace\\sarimax.py:966: UserWarning: Non-stationary starting autoregressive parameters found. Using zeros as starting parameters.\n",
      "  warn('Non-stationary starting autoregressive parameters'\n",
      "C:\\Users\\Lenovo PC\\AppData\\Local\\Programs\\Python\\Python39\\lib\\site-packages\\statsmodels\\tsa\\statespace\\sarimax.py:978: UserWarning: Non-invertible starting MA parameters found. Using zeros as starting parameters.\n",
      "  warn('Non-invertible starting MA parameters found.'\n",
      "C:\\Users\\Lenovo PC\\AppData\\Local\\Programs\\Python\\Python39\\lib\\site-packages\\statsmodels\\base\\model.py:604: ConvergenceWarning: Maximum Likelihood optimization failed to converge. Check mle_retvals\n",
      "  warnings.warn(\"Maximum Likelihood optimization failed to \"\n",
      "C:\\Users\\Lenovo PC\\AppData\\Local\\Programs\\Python\\Python39\\lib\\site-packages\\statsmodels\\base\\model.py:604: ConvergenceWarning: Maximum Likelihood optimization failed to converge. Check mle_retvals\n",
      "  warnings.warn(\"Maximum Likelihood optimization failed to \"\n",
      "C:\\Users\\Lenovo PC\\AppData\\Local\\Programs\\Python\\Python39\\lib\\site-packages\\statsmodels\\base\\model.py:604: ConvergenceWarning: Maximum Likelihood optimization failed to converge. Check mle_retvals\n",
      "  warnings.warn(\"Maximum Likelihood optimization failed to \"\n",
      "C:\\Users\\Lenovo PC\\AppData\\Local\\Programs\\Python\\Python39\\lib\\site-packages\\statsmodels\\base\\model.py:604: ConvergenceWarning: Maximum Likelihood optimization failed to converge. Check mle_retvals\n",
      "  warnings.warn(\"Maximum Likelihood optimization failed to \"\n",
      "C:\\Users\\Lenovo PC\\AppData\\Local\\Programs\\Python\\Python39\\lib\\site-packages\\statsmodels\\base\\model.py:604: ConvergenceWarning: Maximum Likelihood optimization failed to converge. Check mle_retvals\n",
      "  warnings.warn(\"Maximum Likelihood optimization failed to \"\n",
      "C:\\Users\\Lenovo PC\\AppData\\Local\\Programs\\Python\\Python39\\lib\\site-packages\\statsmodels\\base\\model.py:604: ConvergenceWarning: Maximum Likelihood optimization failed to converge. Check mle_retvals\n",
      "  warnings.warn(\"Maximum Likelihood optimization failed to \"\n"
     ]
    },
    {
     "name": "stdout",
     "output_type": "stream",
     "text": [
      "Наилучшие коффициенты: (1, 1, 1, 7)\n"
     ]
    }
   ],
   "source": [
    "aic_best = model.aic\n",
    "seasonal_coeff_best = (1, 1, 1, 7)\n",
    "for P in range(1,3):\n",
    "    for D in range(1,3):\n",
    "        for Q in range(1,3):\n",
    "            model_ = SARIMAX(data[\"Курс\"], order=(2, 1, 3), seasonal_order=(P, D, Q, 7)).fit()\n",
    "            aic = model_.aic\n",
    "            if aic < aic_best:\n",
    "                seasonal_coeff_best = (P, D, Q, 7)\n",
    "                aic_best = aic\n",
    "print (\"Наилучшие коффициенты:\", seasonal_coeff_best)"
   ]
  },
  {
   "cell_type": "markdown",
   "id": "c7e3f1a8",
   "metadata": {},
   "source": [
    "## Визуализация результата"
   ]
  },
  {
   "cell_type": "code",
   "execution_count": 6,
   "id": "522ef555",
   "metadata": {},
   "outputs": [
    {
     "name": "stderr",
     "output_type": "stream",
     "text": [
      "C:\\Users\\Lenovo PC\\AppData\\Local\\Programs\\Python\\Python39\\lib\\site-packages\\statsmodels\\base\\model.py:604: ConvergenceWarning: Maximum Likelihood optimization failed to converge. Check mle_retvals\n",
      "  warnings.warn(\"Maximum Likelihood optimization failed to \"\n"
     ]
    }
   ],
   "source": [
    "model = SARIMAX(data[\"Курс\"][:-10], order=(2, 1, 3), seasonal_order=seasonal_coeff_best).fit()\n",
    "forecast = model.get_forecast(steps=10).predicted_mean"
   ]
  },
  {
   "cell_type": "code",
   "execution_count": 7,
   "id": "3e6aaf1a",
   "metadata": {},
   "outputs": [
    {
     "data": {
      "image/png": "[encoded data removed]",
      "text/plain": [
       "<Figure size 432x288 with 1 Axes>"
      ]
     },
     "metadata": {
      "needs_background": "light"
     },
     "output_type": "display_data"
    }
   ],
   "source": [
    "plt.plot(data[\"Курс\"])\n",
    "plt.plot(forecast)\n",
    "plt.show()"
   ]
  },
  {
   "cell_type": "markdown",
   "id": "01e5f462",
   "metadata": {},
   "source": [
    "Оценим ошибку"
   ]
  },
  {
   "cell_type": "code",
   "execution_count": 8,
   "id": "4e904e75",
   "metadata": {},
   "outputs": [
    {
     "name": "stdout",
     "output_type": "stream",
     "text": [
      "Ошибка модели: 7.053594196283116\n"
     ]
    }
   ],
   "source": [
    "print (\"Ошибка модели:\", smape(data[\"Курс\"][-10:], forecast))"
   ]
  }
 ],
 "metadata": {
  "kernelspec": {
   "display_name": "Python 3 (ipykernel)",
   "language": "python",
   "name": "python3"
  },
  "language_info": {
   "codemirror_mode": {
    "name": "ipython",
    "version": 3
   },
   "file_extension": ".py",
   "mimetype": "text/x-python",
   "name": "python",
   "nbconvert_exporter": "python",
   "pygments_lexer": "ipython3",
   "version": "3.9.9"
  }
 },
 "nbformat": 4,
 "nbformat_minor": 5
}
