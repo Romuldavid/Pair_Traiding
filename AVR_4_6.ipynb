{
 "cells": [
  {
   "cell_type": "markdown",
   "id": "f76851e2",
   "metadata": {},
   "source": [
    "Используем декомпозицию трендов библиотеки Prophet для прогнозирования\n",
    "\n",
    "![PROPHET](1_14.jpg)"
   ]
  },
  {
   "cell_type": "code",
   "execution_count": 4,
   "id": "b80dafb8",
   "metadata": {},
   "outputs": [],
   "source": [
    "import numpy as np\n",
    "import pandas as pd\n",
    "import matplotlib.pyplot as plt\n",
    "from prophet import Prophet\n",
    "from datetime import datetime\n",
    "dateparse = lambda x: datetime.strptime(x, '%d.%m.%Y')\n",
    "#from autonotebook import tqdm as notebook_tqdm\n",
    "from ipywidgets import FloatProgress"
   ]
  },
  {
   "cell_type": "code",
   "execution_count": 5,
   "id": "2b355e82",
   "metadata": {},
   "outputs": [],
   "source": [
    "def smape(A, F):\n",
    "    return 100*np.sum(2 * np.abs(F - A) / (np.abs(A) + np.abs(F)))"
   ]
  },
  {
   "cell_type": "code",
   "execution_count": 6,
   "id": "9e846ce8",
   "metadata": {},
   "outputs": [
    {
     "data": {
      "text/html": [
       "<div>\n",
       "<style scoped>\n",
       "    .dataframe tbody tr th:only-of-type {\n",
       "        vertical-align: middle;\n",
       "    }\n",
       "\n",
       "    .dataframe tbody tr th {\n",
       "        vertical-align: top;\n",
       "    }\n",
       "\n",
       "    .dataframe thead th {\n",
       "        text-align: right;\n",
       "    }\n",
       "</style>\n",
       "<table border=\"1\" class=\"dataframe\">\n",
       "  <thead>\n",
       "    <tr style=\"text-align: right;\">\n",
       "      <th></th>\n",
       "      <th>Дата</th>\n",
       "      <th>Курс</th>\n",
       "    </tr>\n",
       "  </thead>\n",
       "  <tbody>\n",
       "    <tr>\n",
       "      <th>0</th>\n",
       "      <td>2022-01-11</td>\n",
       "      <td>75.1315</td>\n",
       "    </tr>\n",
       "    <tr>\n",
       "      <th>1</th>\n",
       "      <td>2022-01-12</td>\n",
       "      <td>74.8355</td>\n",
       "    </tr>\n",
       "    <tr>\n",
       "      <th>2</th>\n",
       "      <td>2022-01-13</td>\n",
       "      <td>74.5277</td>\n",
       "    </tr>\n",
       "    <tr>\n",
       "      <th>3</th>\n",
       "      <td>2022-01-14</td>\n",
       "      <td>74.5686</td>\n",
       "    </tr>\n",
       "    <tr>\n",
       "      <th>4</th>\n",
       "      <td>2022-01-15</td>\n",
       "      <td>75.7668</td>\n",
       "    </tr>\n",
       "  </tbody>\n",
       "</table>\n",
       "</div>"
      ],
      "text/plain": [
       "        Дата     Курс\n",
       "0 2022-01-11  75.1315\n",
       "1 2022-01-12  74.8355\n",
       "2 2022-01-13  74.5277\n",
       "3 2022-01-14  74.5686\n",
       "4 2022-01-15  75.7668"
      ]
     },
     "execution_count": 6,
     "metadata": {},
     "output_type": "execute_result"
    }
   ],
   "source": [
    "data = pd.read_csv(\"ittensive.time.series.02.csv\",\n",
    "                   delimiter=\";\", header=0, names=[\"Дата\", \"Курс\", \"Ипотека\"], date_parser=dateparse, parse_dates=['Дата'])\n",
    "data = data.drop(\"Ипотека\", axis=1)\n",
    "data = data[::-1].reset_index().drop(labels=\"index\", axis=1)\n",
    "data.head()"
   ]
  },
  {
   "cell_type": "markdown",
   "id": "8d4d3127",
   "metadata": {},
   "source": [
    "## Строим модель"
   ]
  },
  {
   "cell_type": "code",
   "execution_count": 7,
   "id": "8e517e58",
   "metadata": {},
   "outputs": [
    {
     "ename": "ValueError",
     "evalue": "Length mismatch: Expected axis has 2 elements, new values have 3 elements",
     "output_type": "error",
     "traceback": [
      "\u001b[0;31m---------------------------------------------------------------------------\u001b[0m",
      "\u001b[0;31mValueError\u001b[0m                                Traceback (most recent call last)",
      "Cell \u001b[0;32mIn[7], line 1\u001b[0m\n\u001b[0;32m----> 1\u001b[0m data\u001b[39m.\u001b[39;49mcolumns \u001b[39m=\u001b[39m [\u001b[39m\"\u001b[39m\u001b[39mds\u001b[39m\u001b[39m\"\u001b[39m, \u001b[39m\"\u001b[39m\u001b[39my\u001b[39m\u001b[39m\"\u001b[39m, \u001b[39m\"\u001b[39m\u001b[39mz\u001b[39m\u001b[39m\"\u001b[39m]\n\u001b[1;32m      2\u001b[0m data[:\u001b[39m-\u001b[39m\u001b[39m11\u001b[39m]\n",
      "File \u001b[0;32m~/Python/Finance/1_PT/venv/lib/python3.8/site-packages/pandas/core/generic.py:5500\u001b[0m, in \u001b[0;36mNDFrame.__setattr__\u001b[0;34m(self, name, value)\u001b[0m\n\u001b[1;32m   5498\u001b[0m \u001b[39mtry\u001b[39;00m:\n\u001b[1;32m   5499\u001b[0m     \u001b[39mobject\u001b[39m\u001b[39m.\u001b[39m\u001b[39m__getattribute__\u001b[39m(\u001b[39mself\u001b[39m, name)\n\u001b[0;32m-> 5500\u001b[0m     \u001b[39mreturn\u001b[39;00m \u001b[39mobject\u001b[39;49m\u001b[39m.\u001b[39;49m\u001b[39m__setattr__\u001b[39;49m(\u001b[39mself\u001b[39;49m, name, value)\n\u001b[1;32m   5501\u001b[0m \u001b[39mexcept\u001b[39;00m \u001b[39mAttributeError\u001b[39;00m:\n\u001b[1;32m   5502\u001b[0m     \u001b[39mpass\u001b[39;00m\n",
      "File \u001b[0;32m~/Python/Finance/1_PT/venv/lib/python3.8/site-packages/pandas/_libs/properties.pyx:70\u001b[0m, in \u001b[0;36mpandas._libs.properties.AxisProperty.__set__\u001b[0;34m()\u001b[0m\n",
      "File \u001b[0;32m~/Python/Finance/1_PT/venv/lib/python3.8/site-packages/pandas/core/generic.py:766\u001b[0m, in \u001b[0;36mNDFrame._set_axis\u001b[0;34m(self, axis, labels)\u001b[0m\n\u001b[1;32m    764\u001b[0m \u001b[39mdef\u001b[39;00m \u001b[39m_set_axis\u001b[39m(\u001b[39mself\u001b[39m, axis: \u001b[39mint\u001b[39m, labels: Index) \u001b[39m-\u001b[39m\u001b[39m>\u001b[39m \u001b[39mNone\u001b[39;00m:\n\u001b[1;32m    765\u001b[0m     labels \u001b[39m=\u001b[39m ensure_index(labels)\n\u001b[0;32m--> 766\u001b[0m     \u001b[39mself\u001b[39;49m\u001b[39m.\u001b[39;49m_mgr\u001b[39m.\u001b[39;49mset_axis(axis, labels)\n\u001b[1;32m    767\u001b[0m     \u001b[39mself\u001b[39m\u001b[39m.\u001b[39m_clear_item_cache()\n",
      "File \u001b[0;32m~/Python/Finance/1_PT/venv/lib/python3.8/site-packages/pandas/core/internals/managers.py:216\u001b[0m, in \u001b[0;36mBaseBlockManager.set_axis\u001b[0;34m(self, axis, new_labels)\u001b[0m\n\u001b[1;32m    214\u001b[0m \u001b[39mdef\u001b[39;00m \u001b[39mset_axis\u001b[39m(\u001b[39mself\u001b[39m, axis: \u001b[39mint\u001b[39m, new_labels: Index) \u001b[39m-\u001b[39m\u001b[39m>\u001b[39m \u001b[39mNone\u001b[39;00m:\n\u001b[1;32m    215\u001b[0m     \u001b[39m# Caller is responsible for ensuring we have an Index object.\u001b[39;00m\n\u001b[0;32m--> 216\u001b[0m     \u001b[39mself\u001b[39;49m\u001b[39m.\u001b[39;49m_validate_set_axis(axis, new_labels)\n\u001b[1;32m    217\u001b[0m     \u001b[39mself\u001b[39m\u001b[39m.\u001b[39maxes[axis] \u001b[39m=\u001b[39m new_labels\n",
      "File \u001b[0;32m~/Python/Finance/1_PT/venv/lib/python3.8/site-packages/pandas/core/internals/base.py:57\u001b[0m, in \u001b[0;36mDataManager._validate_set_axis\u001b[0;34m(self, axis, new_labels)\u001b[0m\n\u001b[1;32m     54\u001b[0m     \u001b[39mpass\u001b[39;00m\n\u001b[1;32m     56\u001b[0m \u001b[39melif\u001b[39;00m new_len \u001b[39m!=\u001b[39m old_len:\n\u001b[0;32m---> 57\u001b[0m     \u001b[39mraise\u001b[39;00m \u001b[39mValueError\u001b[39;00m(\n\u001b[1;32m     58\u001b[0m         \u001b[39mf\u001b[39m\u001b[39m\"\u001b[39m\u001b[39mLength mismatch: Expected axis has \u001b[39m\u001b[39m{\u001b[39;00mold_len\u001b[39m}\u001b[39;00m\u001b[39m elements, new \u001b[39m\u001b[39m\"\u001b[39m\n\u001b[1;32m     59\u001b[0m         \u001b[39mf\u001b[39m\u001b[39m\"\u001b[39m\u001b[39mvalues have \u001b[39m\u001b[39m{\u001b[39;00mnew_len\u001b[39m}\u001b[39;00m\u001b[39m elements\u001b[39m\u001b[39m\"\u001b[39m\n\u001b[1;32m     60\u001b[0m     )\n",
      "\u001b[0;31mValueError\u001b[0m: Length mismatch: Expected axis has 2 elements, new values have 3 elements"
     ]
    }
   ],
   "source": [
    "data.columns = [\"ds\", \"y\", \"z\"]\n",
    "data[:-11]"
   ]
  },
  {
   "cell_type": "code",
   "execution_count": null,
   "id": "0e5b8f9e",
   "metadata": {},
   "outputs": [
    {
     "name": "stderr",
     "output_type": "stream",
     "text": [
      "22:38:48 - cmdstanpy - INFO - Chain [1] start processing\n",
      "22:38:48 - cmdstanpy - INFO - Chain [1] done processing\n"
     ]
    },
    {
     "data": {
      "text/plain": [
       "<prophet.forecaster.Prophet at 0x1b005d3f430>"
      ]
     },
     "execution_count": 5,
     "metadata": {},
     "output_type": "execute_result"
    }
   ],
   "source": [
    "model = Prophet()\n",
    "model.fit(data[:-11])"
   ]
  },
  {
   "cell_type": "markdown",
   "id": "c7e3f1a8",
   "metadata": {},
   "source": [
    "## Визуализация результата"
   ]
  },
  {
   "cell_type": "code",
   "execution_count": null,
   "id": "522ef555",
   "metadata": {},
   "outputs": [
    {
     "data": {
      "text/html": [
       "<div>\n",
       "<style scoped>\n",
       "    .dataframe tbody tr th:only-of-type {\n",
       "        vertical-align: middle;\n",
       "    }\n",
       "\n",
       "    .dataframe tbody tr th {\n",
       "        vertical-align: top;\n",
       "    }\n",
       "\n",
       "    .dataframe thead th {\n",
       "        text-align: right;\n",
       "    }\n",
       "</style>\n",
       "<table border=\"1\" class=\"dataframe\">\n",
       "  <thead>\n",
       "    <tr style=\"text-align: right;\">\n",
       "      <th></th>\n",
       "      <th>ds</th>\n",
       "      <th>trend</th>\n",
       "      <th>yhat_lower</th>\n",
       "      <th>yhat_upper</th>\n",
       "      <th>trend_lower</th>\n",
       "      <th>trend_upper</th>\n",
       "      <th>additive_terms</th>\n",
       "      <th>additive_terms_lower</th>\n",
       "      <th>additive_terms_upper</th>\n",
       "      <th>weekly</th>\n",
       "      <th>weekly_lower</th>\n",
       "      <th>weekly_upper</th>\n",
       "      <th>multiplicative_terms</th>\n",
       "      <th>multiplicative_terms_lower</th>\n",
       "      <th>multiplicative_terms_upper</th>\n",
       "      <th>yhat</th>\n",
       "    </tr>\n",
       "  </thead>\n",
       "  <tbody>\n",
       "    <tr>\n",
       "      <th>154</th>\n",
       "      <td>2022-08-20</td>\n",
       "      <td>59.976611</td>\n",
       "      <td>49.980458</td>\n",
       "      <td>65.391722</td>\n",
       "      <td>59.753490</td>\n",
       "      <td>60.185526</td>\n",
       "      <td>-2.405137</td>\n",
       "      <td>-2.405137</td>\n",
       "      <td>-2.405137</td>\n",
       "      <td>-2.405137</td>\n",
       "      <td>-2.405137</td>\n",
       "      <td>-2.405137</td>\n",
       "      <td>0.0</td>\n",
       "      <td>0.0</td>\n",
       "      <td>0.0</td>\n",
       "      <td>57.571475</td>\n",
       "    </tr>\n",
       "    <tr>\n",
       "      <th>155</th>\n",
       "      <td>2022-08-21</td>\n",
       "      <td>59.976843</td>\n",
       "      <td>61.864432</td>\n",
       "      <td>77.102637</td>\n",
       "      <td>59.675313</td>\n",
       "      <td>60.270020</td>\n",
       "      <td>9.748871</td>\n",
       "      <td>9.748871</td>\n",
       "      <td>9.748871</td>\n",
       "      <td>9.748871</td>\n",
       "      <td>9.748871</td>\n",
       "      <td>9.748871</td>\n",
       "      <td>0.0</td>\n",
       "      <td>0.0</td>\n",
       "      <td>0.0</td>\n",
       "      <td>69.725715</td>\n",
       "    </tr>\n",
       "    <tr>\n",
       "      <th>156</th>\n",
       "      <td>2022-08-22</td>\n",
       "      <td>59.977075</td>\n",
       "      <td>52.628014</td>\n",
       "      <td>68.845802</td>\n",
       "      <td>59.588332</td>\n",
       "      <td>60.376403</td>\n",
       "      <td>0.927603</td>\n",
       "      <td>0.927603</td>\n",
       "      <td>0.927603</td>\n",
       "      <td>0.927603</td>\n",
       "      <td>0.927603</td>\n",
       "      <td>0.927603</td>\n",
       "      <td>0.0</td>\n",
       "      <td>0.0</td>\n",
       "      <td>0.0</td>\n",
       "      <td>60.904678</td>\n",
       "    </tr>\n",
       "    <tr>\n",
       "      <th>157</th>\n",
       "      <td>2022-08-23</td>\n",
       "      <td>59.977307</td>\n",
       "      <td>49.701446</td>\n",
       "      <td>65.727991</td>\n",
       "      <td>59.507173</td>\n",
       "      <td>60.498852</td>\n",
       "      <td>-2.093695</td>\n",
       "      <td>-2.093695</td>\n",
       "      <td>-2.093695</td>\n",
       "      <td>-2.093695</td>\n",
       "      <td>-2.093695</td>\n",
       "      <td>-2.093695</td>\n",
       "      <td>0.0</td>\n",
       "      <td>0.0</td>\n",
       "      <td>0.0</td>\n",
       "      <td>57.883612</td>\n",
       "    </tr>\n",
       "    <tr>\n",
       "      <th>158</th>\n",
       "      <td>2022-08-24</td>\n",
       "      <td>59.977539</td>\n",
       "      <td>49.729132</td>\n",
       "      <td>64.950288</td>\n",
       "      <td>59.398868</td>\n",
       "      <td>60.580004</td>\n",
       "      <td>-2.693105</td>\n",
       "      <td>-2.693105</td>\n",
       "      <td>-2.693105</td>\n",
       "      <td>-2.693105</td>\n",
       "      <td>-2.693105</td>\n",
       "      <td>-2.693105</td>\n",
       "      <td>0.0</td>\n",
       "      <td>0.0</td>\n",
       "      <td>0.0</td>\n",
       "      <td>57.284434</td>\n",
       "    </tr>\n",
       "  </tbody>\n",
       "</table>\n",
       "</div>"
      ],
      "text/plain": [
       "            ds      trend  yhat_lower  yhat_upper  trend_lower  trend_upper  \\\n",
       "154 2022-08-20  59.976611   49.980458   65.391722    59.753490    60.185526   \n",
       "155 2022-08-21  59.976843   61.864432   77.102637    59.675313    60.270020   \n",
       "156 2022-08-22  59.977075   52.628014   68.845802    59.588332    60.376403   \n",
       "157 2022-08-23  59.977307   49.701446   65.727991    59.507173    60.498852   \n",
       "158 2022-08-24  59.977539   49.729132   64.950288    59.398868    60.580004   \n",
       "\n",
       "     additive_terms  additive_terms_lower  additive_terms_upper    weekly  \\\n",
       "154       -2.405137             -2.405137             -2.405137 -2.405137   \n",
       "155        9.748871              9.748871              9.748871  9.748871   \n",
       "156        0.927603              0.927603              0.927603  0.927603   \n",
       "157       -2.093695             -2.093695             -2.093695 -2.093695   \n",
       "158       -2.693105             -2.693105             -2.693105 -2.693105   \n",
       "\n",
       "     weekly_lower  weekly_upper  multiplicative_terms  \\\n",
       "154     -2.405137     -2.405137                   0.0   \n",
       "155      9.748871      9.748871                   0.0   \n",
       "156      0.927603      0.927603                   0.0   \n",
       "157     -2.093695     -2.093695                   0.0   \n",
       "158     -2.693105     -2.693105                   0.0   \n",
       "\n",
       "     multiplicative_terms_lower  multiplicative_terms_upper       yhat  \n",
       "154                         0.0                         0.0  57.571475  \n",
       "155                         0.0                         0.0  69.725715  \n",
       "156                         0.0                         0.0  60.904678  \n",
       "157                         0.0                         0.0  57.883612  \n",
       "158                         0.0                         0.0  57.284434  "
      ]
     },
     "execution_count": 6,
     "metadata": {},
     "output_type": "execute_result"
    }
   ],
   "source": [
    "forecast_ds = model.make_future_dataframe(periods=11)\n",
    "forecast = model.predict(forecast_ds)\n",
    "forecast.tail()"
   ]
  },
  {
   "cell_type": "code",
   "execution_count": null,
   "id": "3e6aaf1a",
   "metadata": {},
   "outputs": [
    {
     "data": {
      "image/png": "[encoded data removed]",
      "text/plain": [
       "<Figure size 432x288 with 1 Axes>"
      ]
     },
     "metadata": {
      "needs_background": "light"
     },
     "output_type": "display_data"
    }
   ],
   "source": [
    "plt.plot(forecast[\"yhat\"])\n",
    "plt.plot(data[\"y\"])\n",
    "plt.show()"
   ]
  },
  {
   "cell_type": "markdown",
   "id": "01e5f462",
   "metadata": {},
   "source": [
    "Оценим ошибку"
   ]
  },
  {
   "cell_type": "code",
   "execution_count": null,
   "id": "4e904e75",
   "metadata": {},
   "outputs": [
    {
     "name": "stdout",
     "output_type": "stream",
     "text": [
      "Ошибка модели: 44.16207863513154\n"
     ]
    }
   ],
   "source": [
    "print (\"Ошибка модели:\", smape(data[\"y\"][-10:], forecast[\"yhat\"][-10:]))"
   ]
  }
 ],
 "metadata": {
  "kernelspec": {
   "display_name": "venv",
   "language": "python",
   "name": "python3"
  },
  "language_info": {
   "codemirror_mode": {
    "name": "ipython",
    "version": 3
   },
   "file_extension": ".py",
   "mimetype": "text/x-python",
   "name": "python",
   "nbconvert_exporter": "python",
   "pygments_lexer": "ipython3",
   "version": "3.8.10"
  },
  "vscode": {
   "interpreter": {
    "hash": "dcbd98763b67ad1609eb19755cab1b3a68da10e69d90355d59e7c81ab1ecae78"
   }
  }
 },
 "nbformat": 4,
 "nbformat_minor": 5
}
